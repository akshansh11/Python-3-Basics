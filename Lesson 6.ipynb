{
  "nbformat": 4,
  "nbformat_minor": 0,
  "metadata": {
    "colab": {
      "name": "Untitled72.ipynb",
      "provenance": []
    },
    "kernelspec": {
      "name": "python3",
      "display_name": "Python 3"
    },
    "language_info": {
      "name": "python"
    }
  },
  "cells": [
    {
      "cell_type": "markdown",
      "metadata": {
        "id": "ec6aOwYHO1tN"
      },
      "source": [
        "## **Lesson 6**"
      ]
    },
    {
      "cell_type": "markdown",
      "metadata": {
        "id": "OOrENl-KQQ_N"
      },
      "source": [
        "# **Strings**\n",
        "\n",
        "Strings, Lists and Tuples are sequences. Sequences are ordered collections. The simplest way to create a string is a 'string' literal expression as shown below:"
      ]
    },
    {
      "cell_type": "code",
      "metadata": {
        "colab": {
          "base_uri": "https://localhost:8080/"
        },
        "id": "vhHyv4i-RqFi",
        "outputId": "9d4c465a-5e5a-4c39-eae2-fbf4759993aa"
      },
      "source": [
        "s=\"Hello Sherlock!!\"\n",
        "n='''\n",
        "this is a multi line string\n",
        "'''\n",
        "\n",
        "print(s)\n",
        "print(n)"
      ],
      "execution_count": 1,
      "outputs": [
        {
          "output_type": "stream",
          "text": [
            "Hello Sherlock!!\n",
            "\n",
            "this is a multi line string\n",
            "\n"
          ],
          "name": "stdout"
        }
      ]
    },
    {
      "cell_type": "code",
      "metadata": {
        "colab": {
          "base_uri": "https://localhost:8080/"
        },
        "id": "XPAqRgZ-S_pN",
        "outputId": "cebe5d3b-8bab-4591-b43e-57162550d63a"
      },
      "source": [
        "s=''\n",
        "print(s)"
      ],
      "execution_count": 2,
      "outputs": [
        {
          "output_type": "stream",
          "text": [
            "\n"
          ],
          "name": "stdout"
        }
      ]
    },
    {
      "cell_type": "code",
      "metadata": {
        "colab": {
          "base_uri": "https://localhost:8080/"
        },
        "id": "mdbkSGg3TEzW",
        "outputId": "972d04fd-1161-4fc5-b939-aa60838fd882"
      },
      "source": [
        "s='5'\n",
        "i=s\n",
        "print(s)\n",
        "print(i)\n"
      ],
      "execution_count": 3,
      "outputs": [
        {
          "output_type": "stream",
          "text": [
            "5\n",
            "5\n"
          ],
          "name": "stdout"
        }
      ]
    },
    {
      "cell_type": "code",
      "metadata": {
        "colab": {
          "base_uri": "https://localhost:8080/"
        },
        "id": "z_oyAB5yTOX_",
        "outputId": "73444e79-8715-4789-8bcd-d501b396d16b"
      },
      "source": [
        "type(s)\n",
        "type(i)"
      ],
      "execution_count": 4,
      "outputs": [
        {
          "output_type": "execute_result",
          "data": {
            "text/plain": [
              "str"
            ]
          },
          "metadata": {
            "tags": []
          },
          "execution_count": 4
        }
      ]
    },
    {
      "cell_type": "code",
      "metadata": {
        "colab": {
          "base_uri": "https://localhost:8080/",
          "height": 197
        },
        "id": "azxaEN60UAGd",
        "outputId": "ba2ad3c8-a3a3-4122-dd58-05cd3b30d4cf"
      },
      "source": [
        "print(s)\n",
        "print(i+10)"
      ],
      "execution_count": 5,
      "outputs": [
        {
          "output_type": "stream",
          "text": [
            "5\n"
          ],
          "name": "stdout"
        },
        {
          "output_type": "error",
          "ename": "TypeError",
          "evalue": "ignored",
          "traceback": [
            "\u001b[0;31m---------------------------------------------------------------------------\u001b[0m",
            "\u001b[0;31mTypeError\u001b[0m                                 Traceback (most recent call last)",
            "\u001b[0;32m<ipython-input-5-0fb30cde0e24>\u001b[0m in \u001b[0;36m<module>\u001b[0;34m()\u001b[0m\n\u001b[1;32m      1\u001b[0m \u001b[0mprint\u001b[0m\u001b[0;34m(\u001b[0m\u001b[0ms\u001b[0m\u001b[0;34m)\u001b[0m\u001b[0;34m\u001b[0m\u001b[0;34m\u001b[0m\u001b[0m\n\u001b[0;32m----> 2\u001b[0;31m \u001b[0mprint\u001b[0m\u001b[0;34m(\u001b[0m\u001b[0mi\u001b[0m\u001b[0;34m+\u001b[0m\u001b[0;36m10\u001b[0m\u001b[0;34m)\u001b[0m\u001b[0;34m\u001b[0m\u001b[0;34m\u001b[0m\u001b[0m\n\u001b[0m",
            "\u001b[0;31mTypeError\u001b[0m: can only concatenate str (not \"int\") to str"
          ]
        }
      ]
    },
    {
      "cell_type": "code",
      "metadata": {
        "colab": {
          "base_uri": "https://localhost:8080/"
        },
        "id": "BuhhlduRUR1z",
        "outputId": "235c2b6f-de18-47c5-f225-ebc617f74a97"
      },
      "source": [
        "print(int(i)+10)"
      ],
      "execution_count": 6,
      "outputs": [
        {
          "output_type": "stream",
          "text": [
            "15\n"
          ],
          "name": "stdout"
        }
      ]
    },
    {
      "cell_type": "markdown",
      "metadata": {
        "id": "gvf2CLnRU0ui"
      },
      "source": [
        "# **Lists**\n",
        "\n",
        "Lists are new Python type which are sequences of any type of value which can include other strings or lists. Lists are created within ' [ ]'. Just see below example:"
      ]
    },
    {
      "cell_type": "code",
      "metadata": {
        "colab": {
          "base_uri": "https://localhost:8080/"
        },
        "id": "jLp8uYeEXHIi",
        "outputId": "49a05dc0-ee33-4528-ac0e-1ce5fd85a348"
      },
      "source": [
        "mylist=[\"one\",2,\"three\",4]\n",
        "\n",
        "print(mylist)"
      ],
      "execution_count": 7,
      "outputs": [
        {
          "output_type": "stream",
          "text": [
            "['one', 2, 'three', 4]\n"
          ],
          "name": "stdout"
        }
      ]
    },
    {
      "cell_type": "markdown",
      "metadata": {
        "id": "JUOch7txXpps"
      },
      "source": [
        "We can only concatenate one list with other list. Look below code:"
      ]
    },
    {
      "cell_type": "code",
      "metadata": {
        "colab": {
          "base_uri": "https://localhost:8080/"
        },
        "id": "lPgIollrX2in",
        "outputId": "bf2d5711-b181-4f78-9bef-963099c57e43"
      },
      "source": [
        "mindlist=[1, 2,3, 4]\n",
        "print(mindlist)"
      ],
      "execution_count": 8,
      "outputs": [
        {
          "output_type": "stream",
          "text": [
            "[1, 2, 3, 4]\n"
          ],
          "name": "stdout"
        }
      ]
    },
    {
      "cell_type": "code",
      "metadata": {
        "colab": {
          "base_uri": "https://localhost:8080/",
          "height": 163
        },
        "id": "lqSoyACyYBEK",
        "outputId": "3b2e79d2-05bb-48ea-a516-5d3155aaa6dc"
      },
      "source": [
        "print(mindlist+19)"
      ],
      "execution_count": 9,
      "outputs": [
        {
          "output_type": "error",
          "ename": "TypeError",
          "evalue": "ignored",
          "traceback": [
            "\u001b[0;31m---------------------------------------------------------------------------\u001b[0m",
            "\u001b[0;31mTypeError\u001b[0m                                 Traceback (most recent call last)",
            "\u001b[0;32m<ipython-input-9-a833d72cf69b>\u001b[0m in \u001b[0;36m<module>\u001b[0;34m()\u001b[0m\n\u001b[0;32m----> 1\u001b[0;31m \u001b[0mprint\u001b[0m\u001b[0;34m(\u001b[0m\u001b[0mmindlist\u001b[0m\u001b[0;34m+\u001b[0m\u001b[0;36m19\u001b[0m\u001b[0;34m)\u001b[0m\u001b[0;34m\u001b[0m\u001b[0;34m\u001b[0m\u001b[0m\n\u001b[0m",
            "\u001b[0;31mTypeError\u001b[0m: can only concatenate list (not \"int\") to list"
          ]
        }
      ]
    },
    {
      "cell_type": "code",
      "metadata": {
        "colab": {
          "base_uri": "https://localhost:8080/"
        },
        "id": "6GvRO3ScYFbk",
        "outputId": "bee21c45-5be1-4536-fa86-5052b3535924"
      },
      "source": [
        "brain=[3,4,6,7]\n",
        "print(mindlist+brain)"
      ],
      "execution_count": 10,
      "outputs": [
        {
          "output_type": "stream",
          "text": [
            "[1, 2, 3, 4, 3, 4, 6, 7]\n"
          ],
          "name": "stdout"
        }
      ]
    },
    {
      "cell_type": "markdown",
      "metadata": {
        "id": "p5FLd8VPZPlC"
      },
      "source": [
        "# **Tuples**\n",
        "\n",
        "Tuples are just like Lists. The only difference is that, Tuples are immutable which means that once the Tuples is created it cannot be changed. Tuples are writthen inside'( )'"
      ]
    },
    {
      "cell_type": "code",
      "metadata": {
        "colab": {
          "base_uri": "https://localhost:8080/"
        },
        "id": "VSD3WrDNaMOE",
        "outputId": "9e6b9ddf-b0dd-4e61-80a8-ffba2c9d72e1"
      },
      "source": [
        "myTuples=(\"one\", 2, \"three\")\n",
        "type(myTuples)"
      ],
      "execution_count": 15,
      "outputs": [
        {
          "output_type": "execute_result",
          "data": {
            "text/plain": [
              "tuple"
            ]
          },
          "metadata": {
            "tags": []
          },
          "execution_count": 15
        }
      ]
    },
    {
      "cell_type": "markdown",
      "metadata": {
        "id": "SPhEs2mzc15A"
      },
      "source": [
        "You can see in below code that in order to create single tuple, you have to add extra comma otherwise it will treat it as a string. "
      ]
    },
    {
      "cell_type": "code",
      "metadata": {
        "colab": {
          "base_uri": "https://localhost:8080/"
        },
        "id": "jSk9TAkBdCna",
        "outputId": "e51eb5db-8293-4807-9ff9-332f45111bb6"
      },
      "source": [
        "mTuple=(100)\n",
        "type(mTuple)"
      ],
      "execution_count": 16,
      "outputs": [
        {
          "output_type": "execute_result",
          "data": {
            "text/plain": [
              "int"
            ]
          },
          "metadata": {
            "tags": []
          },
          "execution_count": 16
        }
      ]
    },
    {
      "cell_type": "code",
      "metadata": {
        "colab": {
          "base_uri": "https://localhost:8080/"
        },
        "id": "VCBJZdoNdPbW",
        "outputId": "0e10b412-3d5a-46ab-cf83-cc0d957668a9"
      },
      "source": [
        "mTuple=(100,)\n",
        "type(mTuple)"
      ],
      "execution_count": 17,
      "outputs": [
        {
          "output_type": "execute_result",
          "data": {
            "text/plain": [
              "tuple"
            ]
          },
          "metadata": {
            "tags": []
          },
          "execution_count": 17
        }
      ]
    }
  ]
}