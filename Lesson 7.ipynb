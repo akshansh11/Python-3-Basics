{
  "nbformat": 4,
  "nbformat_minor": 0,
  "metadata": {
    "colab": {
      "name": "Untitled73.ipynb",
      "provenance": []
    },
    "kernelspec": {
      "name": "python3",
      "display_name": "Python 3"
    },
    "language_info": {
      "name": "python"
    }
  },
  "cells": [
    {
      "cell_type": "markdown",
      "metadata": {
        "id": "TG10cmDPeS-i"
      },
      "source": [
        "## **Lesson 7**"
      ]
    },
    {
      "cell_type": "markdown",
      "metadata": {
        "id": "KiGYhE_TeW70"
      },
      "source": [
        "# **Index Operator**\n",
        "\n",
        "We know that strings, lists and tuples are ordered collection of items and it is useful for asking what is the first item, second item and so on. Indexing allows us to access specific element of the sequences. Just look with below example code:"
      ]
    },
    {
      "cell_type": "code",
      "metadata": {
        "colab": {
          "base_uri": "https://localhost:8080/"
        },
        "id": "4CxJSakzg2U5",
        "outputId": "cd3a7328-25fe-4dcd-f78f-b143cf5c9b24"
      },
      "source": [
        "m=\"Akshansh\"\n",
        "print(m[0])\n",
        "print(m[1])\n",
        "print(m[2])\n",
        "print(m[3])\n",
        "print(m[4])"
      ],
      "execution_count": 2,
      "outputs": [
        {
          "output_type": "stream",
          "text": [
            "A\n",
            "k\n",
            "s\n",
            "h\n",
            "a\n"
          ],
          "name": "stdout"
        }
      ]
    },
    {
      "cell_type": "code",
      "metadata": {
        "colab": {
          "base_uri": "https://localhost:8080/"
        },
        "id": "0TZkGqTBhl3l",
        "outputId": "a7452784-4cb5-4a08-e6b6-bf3181c66e04"
      },
      "source": [
        "myList=[\"one\",2,\"three\"]\n",
        "print(myList[1])\n",
        "print(myList[2])"
      ],
      "execution_count": 3,
      "outputs": [
        {
          "output_type": "stream",
          "text": [
            "2\n",
            "three\n"
          ],
          "name": "stdout"
        }
      ]
    },
    {
      "cell_type": "code",
      "metadata": {
        "colab": {
          "base_uri": "https://localhost:8080/"
        },
        "id": "Tya6_n_uqslU",
        "outputId": "32c8cafa-08c2-46b6-80b6-fc9b4ea86fcf"
      },
      "source": [
        "len(m)"
      ],
      "execution_count": 4,
      "outputs": [
        {
          "output_type": "execute_result",
          "data": {
            "text/plain": [
              "8"
            ]
          },
          "metadata": {
            "tags": []
          },
          "execution_count": 4
        }
      ]
    },
    {
      "cell_type": "code",
      "metadata": {
        "colab": {
          "base_uri": "https://localhost:8080/"
        },
        "id": "kxoeTfdQqwZ7",
        "outputId": "3e4f33b2-ee0f-4751-d551-29095e9c65dd"
      },
      "source": [
        "len(myList)"
      ],
      "execution_count": 5,
      "outputs": [
        {
          "output_type": "execute_result",
          "data": {
            "text/plain": [
              "3"
            ]
          },
          "metadata": {
            "tags": []
          },
          "execution_count": 5
        }
      ]
    },
    {
      "cell_type": "markdown",
      "metadata": {
        "id": "8cn5Ec2mrYUD"
      },
      "source": [
        "To print the last element of the given character the following code can be used:"
      ]
    },
    {
      "cell_type": "code",
      "metadata": {
        "colab": {
          "base_uri": "https://localhost:8080/"
        },
        "id": "yqFhHrwPrgaL",
        "outputId": "6bc087b6-f1af-45e6-caac-bd889fa2fcb7"
      },
      "source": [
        "print(m[len(m)-1])"
      ],
      "execution_count": 6,
      "outputs": [
        {
          "output_type": "stream",
          "text": [
            "h\n"
          ],
          "name": "stdout"
        }
      ]
    },
    {
      "cell_type": "code",
      "metadata": {
        "colab": {
          "base_uri": "https://localhost:8080/"
        },
        "id": "Ych-slrQr2Ob",
        "outputId": "bcf4cbd7-2201-410c-c23c-7e0047eba634"
      },
      "source": [
        "print(m[-1])"
      ],
      "execution_count": 7,
      "outputs": [
        {
          "output_type": "stream",
          "text": [
            "h\n"
          ],
          "name": "stdout"
        }
      ]
    }
  ]
}