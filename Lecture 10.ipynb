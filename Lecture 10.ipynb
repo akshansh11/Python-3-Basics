{
  "nbformat": 4,
  "nbformat_minor": 0,
  "metadata": {
    "colab": {
      "name": "Untitled74.ipynb",
      "provenance": []
    },
    "kernelspec": {
      "name": "python3",
      "display_name": "Python 3"
    },
    "language_info": {
      "name": "python"
    }
  },
  "cells": [
    {
      "cell_type": "markdown",
      "metadata": {
        "id": "j-xuDiL81xYo"
      },
      "source": [
        "## **Lesson 10**"
      ]
    },
    {
      "cell_type": "markdown",
      "metadata": {
        "id": "m8KbTfcD11Iz"
      },
      "source": [
        "# **Count and Index**\n",
        "\n",
        "Suppose we have a string and we want to find out how many times a given character or sequence of characters appear in any given variable. This can be achieved by 'count' method. Look below example:"
      ]
    },
    {
      "cell_type": "code",
      "metadata": {
        "colab": {
          "base_uri": "https://localhost:8080/"
        },
        "id": "lNRISQHn28NJ",
        "outputId": "9e8e1296-ad4d-4099-e0c5-2021325f0e32"
      },
      "source": [
        "m=\"You see, but you do not observe.\"\n",
        "print(m.count('e'))\n",
        "print(m.count('you'))"
      ],
      "execution_count": 7,
      "outputs": [
        {
          "output_type": "stream",
          "text": [
            "4\n",
            "1\n"
          ],
          "name": "stdout"
        }
      ]
    },
    {
      "cell_type": "markdown",
      "metadata": {
        "id": "znASe0Wu3f0L"
      },
      "source": [
        "Just like on strings, Count works on Lists too. "
      ]
    },
    {
      "cell_type": "code",
      "metadata": {
        "colab": {
          "base_uri": "https://localhost:8080/"
        },
        "id": "SF-3dOxU3l5W",
        "outputId": "790b73c6-3be8-4390-81cf-a9bbb6778841"
      },
      "source": [
        "n=[\"For\",4,\"Apple\",4,\"Sheldon\",\"4\",\"Dexter\"]\n",
        "print(n.count(\"4\"))"
      ],
      "execution_count": 8,
      "outputs": [
        {
          "output_type": "stream",
          "text": [
            "1\n"
          ],
          "name": "stdout"
        }
      ]
    },
    {
      "cell_type": "code",
      "metadata": {
        "colab": {
          "base_uri": "https://localhost:8080/"
        },
        "id": "G9BPZgtV35fj",
        "outputId": "767bb13c-d3ab-4ae9-b686-bd547834b4eb"
      },
      "source": [
        "print(n.count(\"p\"))"
      ],
      "execution_count": 9,
      "outputs": [
        {
          "output_type": "stream",
          "text": [
            "0\n"
          ],
          "name": "stdout"
        }
      ]
    },
    {
      "cell_type": "markdown",
      "metadata": {
        "id": "xO6rYJ1E4FZG"
      },
      "source": [
        "Index behaves much more wierder. It gives the output when a given character appears for first time."
      ]
    },
    {
      "cell_type": "code",
      "metadata": {
        "colab": {
          "base_uri": "https://localhost:8080/"
        },
        "id": "kQrkI9mR4iin",
        "outputId": "bcb10e15-2e9b-4b0e-c4a4-e921bd265c5a"
      },
      "source": [
        "print(m.index('e'))"
      ],
      "execution_count": 10,
      "outputs": [
        {
          "output_type": "stream",
          "text": [
            "5\n"
          ],
          "name": "stdout"
        }
      ]
    }
  ]
}