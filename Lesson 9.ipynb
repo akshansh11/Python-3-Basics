{
  "nbformat": 4,
  "nbformat_minor": 0,
  "metadata": {
    "colab": {
      "name": "Untitled74.ipynb",
      "provenance": []
    },
    "kernelspec": {
      "name": "python3",
      "display_name": "Python 3"
    },
    "language_info": {
      "name": "python"
    }
  },
  "cells": [
    {
      "cell_type": "markdown",
      "metadata": {
        "id": "JKCh0dbJ2L0Q"
      },
      "source": [
        "## **Lesson 9**"
      ]
    },
    {
      "cell_type": "markdown",
      "metadata": {
        "id": "jkdFKTxmyF57"
      },
      "source": [
        "# **Concatenation and Repetition**\n",
        "\n",
        "Let's understand with the help of below code:"
      ]
    },
    {
      "cell_type": "code",
      "metadata": {
        "colab": {
          "base_uri": "https://localhost:8080/"
        },
        "id": "d18Y7QsIymxI",
        "outputId": "a011bfbc-bd35-46e4-c4ad-eb6b1a198d91"
      },
      "source": [
        "print([1,2]+[3,4])"
      ],
      "execution_count": 1,
      "outputs": [
        {
          "output_type": "stream",
          "text": [
            "[1, 2, 3, 4]\n"
          ],
          "name": "stdout"
        }
      ]
    },
    {
      "cell_type": "code",
      "metadata": {
        "colab": {
          "base_uri": "https://localhost:8080/"
        },
        "id": "CQFjHgAWyxvH",
        "outputId": "bc9d6d4d-ee4c-4e88-cd2b-f0acdf813e3c"
      },
      "source": [
        "fruits=[\"mango\",\"apple\",\"banana\",\"strawberry\"]\n",
        "chocolates=[\"Kitkat\",\"Dairy Milk\",\"Bournville\",\"Perk\"]\n",
        "print(fruits+chocolates)"
      ],
      "execution_count": 2,
      "outputs": [
        {
          "output_type": "stream",
          "text": [
            "['mango', 'apple', 'banana', 'strawberry', 'Kitkat', 'Dairy Milk', 'Bournville', 'Perk']\n"
          ],
          "name": "stdout"
        }
      ]
    },
    {
      "cell_type": "markdown",
      "metadata": {
        "id": "po8NYN-JzW9D"
      },
      "source": [
        "In addition to concatenation, we can also do repetition task. Concatenation uses '+' operator while repetition uses '*' operator. "
      ]
    },
    {
      "cell_type": "code",
      "metadata": {
        "colab": {
          "base_uri": "https://localhost:8080/"
        },
        "id": "lIZHfdB8zwg1",
        "outputId": "f532383e-b69f-42cb-9a19-e71d59ba1a6e"
      },
      "source": [
        "print([0]*4)"
      ],
      "execution_count": 3,
      "outputs": [
        {
          "output_type": "stream",
          "text": [
            "[0, 0, 0, 0]\n"
          ],
          "name": "stdout"
        }
      ]
    },
    {
      "cell_type": "code",
      "metadata": {
        "colab": {
          "base_uri": "https://localhost:8080/"
        },
        "id": "50qSokU5z0vE",
        "outputId": "f154e6dc-5955-4686-dad4-93658db8246c"
      },
      "source": [
        "print(fruits*4)"
      ],
      "execution_count": 4,
      "outputs": [
        {
          "output_type": "stream",
          "text": [
            "['mango', 'apple', 'banana', 'strawberry', 'mango', 'apple', 'banana', 'strawberry', 'mango', 'apple', 'banana', 'strawberry', 'mango', 'apple', 'banana', 'strawberry']\n"
          ],
          "name": "stdout"
        }
      ]
    },
    {
      "cell_type": "markdown",
      "metadata": {
        "id": "oSHBqmm80o_Y"
      },
      "source": [
        "Concatenation and repetition followa same multiplication addition rule. Let's see below example:"
      ]
    },
    {
      "cell_type": "code",
      "metadata": {
        "colab": {
          "base_uri": "https://localhost:8080/"
        },
        "id": "GNHXDJ2P0zy4",
        "outputId": "f2e2dbbd-b80b-4f26-a612-9a4951361a62"
      },
      "source": [
        "print((fruits+[1])*3)"
      ],
      "execution_count": 5,
      "outputs": [
        {
          "output_type": "stream",
          "text": [
            "['mango', 'apple', 'banana', 'strawberry', 1, 'mango', 'apple', 'banana', 'strawberry', 1, 'mango', 'apple', 'banana', 'strawberry', 1]\n"
          ],
          "name": "stdout"
        }
      ]
    },
    {
      "cell_type": "code",
      "metadata": {
        "colab": {
          "base_uri": "https://localhost:8080/"
        },
        "id": "WBZ0eBmB07ut",
        "outputId": "1da676d5-c1ac-4504-c480-d28a90a1a675"
      },
      "source": [
        "print(fruits+[1]*3)"
      ],
      "execution_count": 6,
      "outputs": [
        {
          "output_type": "stream",
          "text": [
            "['mango', 'apple', 'banana', 'strawberry', 1, 1, 1]\n"
          ],
          "name": "stdout"
        }
      ]
    }
  ]
}