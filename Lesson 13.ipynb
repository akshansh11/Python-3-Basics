{
  "nbformat": 4,
  "nbformat_minor": 0,
  "metadata": {
    "colab": {
      "name": "Untitled76.ipynb",
      "provenance": []
    },
    "kernelspec": {
      "name": "python3",
      "display_name": "Python 3"
    },
    "language_info": {
      "name": "python"
    }
  },
  "cells": [
    {
      "cell_type": "markdown",
      "metadata": {
        "id": "DacEtBfXxf-5"
      },
      "source": [
        "## **Lesson 13**"
      ]
    },
    {
      "cell_type": "markdown",
      "metadata": {
        "id": "yfVUkAM9xjst"
      },
      "source": [
        "# **The Accumulator Pattern**\n",
        "\n",
        "The accumulator pattern is a common programming pattern where you iterate through the content of the lists and you accumulate a single value such as sum of all item in the list. It always involves an 'accumulator variable' which is often initialised 0 or some initial value which we are going to start with and we also have an 'iterator variable' that iterates through some sequence and each time after each iteration it will update the 'accumulator variable'. Look with the help of below code:"
      ]
    },
    {
      "cell_type": "code",
      "metadata": {
        "colab": {
          "base_uri": "https://localhost:8080/"
        },
        "id": "wA3QSWlj0vcx",
        "outputId": "3e0cf2c4-7b8e-43b9-b7a5-2443f9c28063"
      },
      "source": [
        "nums=[1,2,3,4,5,6,7,8,9,10,11,12,13,14,15,16,17,18,19,20]\n",
        "accum=0 #accumulator variable\n",
        "for n in nums:\n",
        "  accum=accum+n  #iterator variable\n",
        "print(accum)"
      ],
      "execution_count": 11,
      "outputs": [
        {
          "output_type": "stream",
          "text": [
            "210\n"
          ],
          "name": "stdout"
        }
      ]
    },
    {
      "cell_type": "markdown",
      "metadata": {
        "id": "S6AJ0TV53Rrq"
      },
      "source": [
        "Python has a function called 'range()' which takes any number as an input and produces a sequence. For example range(6) produces sequence of [0,1,2,3,4,5]. The range() in real python implementation does not produce a list but it produces iteratable. Look below example: "
      ]
    },
    {
      "cell_type": "code",
      "metadata": {
        "colab": {
          "base_uri": "https://localhost:8080/"
        },
        "id": "om24iDZm4N4B",
        "outputId": "f1c58ba6-1e51-417e-c07f-2d116a418df5"
      },
      "source": [
        "print(\"range(6):\")\n",
        "for i in range(6):\n",
        "  print(i)"
      ],
      "execution_count": 12,
      "outputs": [
        {
          "output_type": "stream",
          "text": [
            "range(6):\n",
            "0\n",
            "1\n",
            "2\n",
            "3\n",
            "4\n",
            "5\n"
          ],
          "name": "stdout"
        }
      ]
    },
    {
      "cell_type": "markdown",
      "metadata": {
        "id": "s6m_ei234c83"
      },
      "source": [
        "If we need list form we have to cast them by using list(). Look below code:"
      ]
    },
    {
      "cell_type": "code",
      "metadata": {
        "colab": {
          "base_uri": "https://localhost:8080/"
        },
        "id": "wdQvxISK4pLE",
        "outputId": "9e63f1cc-736a-46b0-947c-2108e8e93a8d"
      },
      "source": [
        "print(list(range(6)))"
      ],
      "execution_count": 13,
      "outputs": [
        {
          "output_type": "stream",
          "text": [
            "[0, 1, 2, 3, 4, 5]\n"
          ],
          "name": "stdout"
        }
      ]
    },
    {
      "cell_type": "code",
      "metadata": {
        "colab": {
          "base_uri": "https://localhost:8080/"
        },
        "id": "lf-Ktdyf5ZWd",
        "outputId": "fe578559-8b49-4903-df85-d304676a0a8f"
      },
      "source": [
        "print(\"range(0,6):\")\n",
        "for i in range(0,6):\n",
        "  print(i)"
      ],
      "execution_count": 15,
      "outputs": [
        {
          "output_type": "stream",
          "text": [
            "range(0,6):\n",
            "0\n",
            "1\n",
            "2\n",
            "3\n",
            "4\n",
            "5\n"
          ],
          "name": "stdout"
        }
      ]
    },
    {
      "cell_type": "code",
      "metadata": {
        "colab": {
          "base_uri": "https://localhost:8080/"
        },
        "id": "GNE6-45E6QMK",
        "outputId": "9959b51c-5d64-4719-efd6-0676bb10d8a9"
      },
      "source": [
        "nums=range(1,21)\n",
        "accum=0 #accumulator variable\n",
        "for n in nums:\n",
        "  accum=accum+n  #iterator variable\n",
        "print(accum)"
      ],
      "execution_count": 18,
      "outputs": [
        {
          "output_type": "stream",
          "text": [
            "210\n"
          ],
          "name": "stdout"
        }
      ]
    }
  ]
}