{
  "nbformat": 4,
  "nbformat_minor": 0,
  "metadata": {
    "colab": {
      "name": "Untitled76.ipynb",
      "provenance": []
    },
    "kernelspec": {
      "name": "python3",
      "display_name": "Python 3"
    },
    "language_info": {
      "name": "python"
    }
  },
  "cells": [
    {
      "cell_type": "markdown",
      "metadata": {
        "id": "EeWa1rMbYwe8"
      },
      "source": [
        "## **Lesson 12**"
      ]
    },
    {
      "cell_type": "markdown",
      "metadata": {
        "id": "_ifkpClMYzyJ"
      },
      "source": [
        "# **The For Loop**\n",
        "\n"
      ]
    },
    {
      "cell_type": "code",
      "metadata": {
        "colab": {
          "base_uri": "https://localhost:8080/"
        },
        "id": "nVeTGqvTrwTi",
        "outputId": "3c20f4a3-c474-409e-b88c-7e74852608e0"
      },
      "source": [
        "for name in [\"Upendra\",\"Rajat\",\"Lukman\",\"Jatalika\",\"Akhilesh\",\"Devarrishi\"]:\n",
        "     print(\"Hi,\",name,\"Please come to my party on Saturday!\")"
      ],
      "execution_count": 4,
      "outputs": [
        {
          "output_type": "stream",
          "text": [
            "Hi, Upendra Please come to my party on Saturday!\n",
            "Hi, Rajat Please come to my party on Saturday!\n",
            "Hi, Lukman Please come to my party on Saturday!\n",
            "Hi, Jatalika Please come to my party on Saturday!\n",
            "Hi, Akhilesh Please come to my party on Saturday!\n",
            "Hi, Devarrishi Please come to my party on Saturday!\n"
          ],
          "name": "stdout"
        }
      ]
    },
    {
      "cell_type": "code",
      "metadata": {
        "colab": {
          "base_uri": "https://localhost:8080/"
        },
        "id": "BwlGRb1auI1E",
        "outputId": "d85d2b0c-aa62-4e62-a717-979e00920bc6"
      },
      "source": [
        "for bigbang in \"Oh Leonard You Magneficient Beast !\":\n",
        "    print(bigbang)"
      ],
      "execution_count": 5,
      "outputs": [
        {
          "output_type": "stream",
          "text": [
            "O\n",
            "h\n",
            " \n",
            "L\n",
            "e\n",
            "o\n",
            "n\n",
            "a\n",
            "r\n",
            "d\n",
            " \n",
            "Y\n",
            "o\n",
            "u\n",
            " \n",
            "M\n",
            "a\n",
            "g\n",
            "n\n",
            "e\n",
            "f\n",
            "i\n",
            "c\n",
            "i\n",
            "e\n",
            "n\n",
            "t\n",
            " \n",
            "B\n",
            "e\n",
            "a\n",
            "s\n",
            "t\n",
            " \n",
            "!\n"
          ],
          "name": "stdout"
        }
      ]
    },
    {
      "cell_type": "code",
      "metadata": {
        "colab": {
          "base_uri": "https://localhost:8080/"
        },
        "id": "7wQGWoDnvUmQ",
        "outputId": "219d0c02-7a8f-41d9-a8dc-95ec675a05e5"
      },
      "source": [
        "a=\"A little bird told us\"\n",
        "for ch in a:\n",
        "  print(\"BOOM You were looking for this!\")"
      ],
      "execution_count": 6,
      "outputs": [
        {
          "output_type": "stream",
          "text": [
            "BOOM You were looking for this!\n",
            "BOOM You were looking for this!\n",
            "BOOM You were looking for this!\n",
            "BOOM You were looking for this!\n",
            "BOOM You were looking for this!\n",
            "BOOM You were looking for this!\n",
            "BOOM You were looking for this!\n",
            "BOOM You were looking for this!\n",
            "BOOM You were looking for this!\n",
            "BOOM You were looking for this!\n",
            "BOOM You were looking for this!\n",
            "BOOM You were looking for this!\n",
            "BOOM You were looking for this!\n",
            "BOOM You were looking for this!\n",
            "BOOM You were looking for this!\n",
            "BOOM You were looking for this!\n",
            "BOOM You were looking for this!\n",
            "BOOM You were looking for this!\n",
            "BOOM You were looking for this!\n",
            "BOOM You were looking for this!\n",
            "BOOM You were looking for this!\n"
          ],
          "name": "stdout"
        }
      ]
    },
    {
      "cell_type": "code",
      "metadata": {
        "colab": {
          "base_uri": "https://localhost:8080/"
        },
        "id": "XV6WFu3mv0ZN",
        "outputId": "be46097c-c11a-41e1-97a0-e8ae9a676aac"
      },
      "source": [
        "for ch in a[4:9]:\n",
        "    print(\"We don't do that here\")"
      ],
      "execution_count": 8,
      "outputs": [
        {
          "output_type": "stream",
          "text": [
            "We don't do that here\n",
            "We don't do that here\n",
            "We don't do that here\n",
            "We don't do that here\n",
            "We don't do that here\n"
          ],
          "name": "stdout"
        }
      ]
    },
    {
      "cell_type": "code",
      "metadata": {
        "colab": {
          "base_uri": "https://localhost:8080/"
        },
        "id": "amvDEX9OwV_Y",
        "outputId": "7ee4e0a6-f253-4f60-91f2-2a5bc8f41844"
      },
      "source": [
        "fruits=[\"Mangoes\",\"Strawberry\",\"Peach\",\"Orange\",\"Papaya\"]\n",
        "for sheldon in fruits:\n",
        "  print(sheldon)"
      ],
      "execution_count": 9,
      "outputs": [
        {
          "output_type": "stream",
          "text": [
            "Mangoes\n",
            "Strawberry\n",
            "Peach\n",
            "Orange\n",
            "Papaya\n"
          ],
          "name": "stdout"
        }
      ]
    }
  ]
}