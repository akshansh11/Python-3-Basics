{
  "nbformat": 4,
  "nbformat_minor": 0,
  "metadata": {
    "colab": {
      "name": "Untitled74.ipynb",
      "provenance": []
    },
    "kernelspec": {
      "name": "python3",
      "display_name": "Python 3"
    },
    "language_info": {
      "name": "python"
    }
  },
  "cells": [
    {
      "cell_type": "markdown",
      "metadata": {
        "id": "-xTbMNI27VYl"
      },
      "source": [
        "## **Lesson 11**"
      ]
    },
    {
      "cell_type": "markdown",
      "metadata": {
        "id": "Fp7qaXhR7Ytb"
      },
      "source": [
        "# **Split and Join**\n",
        "\n",
        "Split takes a string and turn them into a list of sub string of that string. Split function looks for a space in the strings and breaks them. Look belo code:"
      ]
    },
    {
      "cell_type": "code",
      "metadata": {
        "colab": {
          "base_uri": "https://localhost:8080/"
        },
        "id": "bvsK-A2KGaZF",
        "outputId": "c1b4c4b5-6ad3-40d4-a9e4-98d6f5e91156"
      },
      "source": [
        "m=\"Brainy is the new sexy!\"\n",
        "print(m.split())"
      ],
      "execution_count": 11,
      "outputs": [
        {
          "output_type": "stream",
          "text": [
            "['Brainy', 'is', 'the', 'new', 'sexy!']\n"
          ],
          "name": "stdout"
        }
      ]
    },
    {
      "cell_type": "code",
      "metadata": {
        "colab": {
          "base_uri": "https://localhost:8080/"
        },
        "id": "EQTp4y3FHAlw",
        "outputId": "ec6c8bb0-4cf1-4705-d1c5-bf4983ba7cf1"
      },
      "source": [
        "print(m.split(\"e\"))"
      ],
      "execution_count": 12,
      "outputs": [
        {
          "output_type": "stream",
          "text": [
            "['Brainy is th', ' n', 'w s', 'xy!']\n"
          ],
          "name": "stdout"
        }
      ]
    },
    {
      "cell_type": "markdown",
      "metadata": {
        "id": "skcxzEDEIH6b"
      },
      "source": [
        "Join is the just opposite of split function. Join takes into a list of strings and join them into a long string. Split is like a chopping with a knife and Join function is used to stick together as a glue. "
      ]
    },
    {
      "cell_type": "code",
      "metadata": {
        "colab": {
          "base_uri": "https://localhost:8080/",
          "height": 35
        },
        "id": "QdWp0AeOIxtw",
        "outputId": "c81a0742-589e-4c26-b4a6-0a50bb09c62a"
      },
      "source": [
        "\"/\".join([\"Brainy\", \"is\",\"the\",\"new\",\"sexy\"])"
      ],
      "execution_count": 13,
      "outputs": [
        {
          "output_type": "execute_result",
          "data": {
            "application/vnd.google.colaboratory.intrinsic+json": {
              "type": "string"
            },
            "text/plain": [
              "'Brainy/is/the/new/sexy'"
            ]
          },
          "metadata": {
            "tags": []
          },
          "execution_count": 13
        }
      ]
    },
    {
      "cell_type": "code",
      "metadata": {
        "colab": {
          "base_uri": "https://localhost:8080/"
        },
        "id": "WFZmhd9oJM2R",
        "outputId": "e428d7ae-f233-4c68-bde4-b522ab83c6bf"
      },
      "source": [
        "balls=[\"red\",\"blue\",\"green\"]\n",
        "glue=\";\"\n",
        "print(glue.join(balls))"
      ],
      "execution_count": 14,
      "outputs": [
        {
          "output_type": "stream",
          "text": [
            "red;blue;green\n"
          ],
          "name": "stdout"
        }
      ]
    }
  ]
}