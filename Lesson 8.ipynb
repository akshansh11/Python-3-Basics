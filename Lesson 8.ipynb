{
  "nbformat": 4,
  "nbformat_minor": 0,
  "metadata": {
    "colab": {
      "name": "Untitled73.ipynb",
      "provenance": []
    },
    "kernelspec": {
      "name": "python3",
      "display_name": "Python 3"
    },
    "language_info": {
      "name": "python"
    }
  },
  "cells": [
    {
      "cell_type": "markdown",
      "metadata": {
        "id": "TG10cmDPeS-i"
      },
      "source": [
        "## **Lesson 8**"
      ]
    },
    {
      "cell_type": "markdown",
      "metadata": {
        "id": "tIRZX1Ics3ON"
      },
      "source": [
        "# **The Slice Operator**\n",
        "\n",
        "Look below code to understand the concept."
      ]
    },
    {
      "cell_type": "code",
      "metadata": {
        "colab": {
          "base_uri": "https://localhost:8080/"
        },
        "id": "VwviTisCujtm",
        "outputId": "309688b8-4732-46f8-854a-8d5f243f71f3"
      },
      "source": [
        "akshansh=[\"Dark\",\"Sherlock\",\"Dexter\",\"The Big Bang Theory\",\"FRIENDS\", \"Mind Hunter\"]\n",
        "akshansh[2:4]"
      ],
      "execution_count": 10,
      "outputs": [
        {
          "output_type": "execute_result",
          "data": {
            "text/plain": [
              "['Dexter', 'The Big Bang Theory']"
            ]
          },
          "metadata": {
            "tags": []
          },
          "execution_count": 10
        }
      ]
    },
    {
      "cell_type": "code",
      "metadata": {
        "colab": {
          "base_uri": "https://localhost:8080/"
        },
        "id": "gazC8nDBvmHV",
        "outputId": "ab355c0b-1cff-41c2-954f-62de14fd28c4"
      },
      "source": [
        "akshansh[:3]"
      ],
      "execution_count": 11,
      "outputs": [
        {
          "output_type": "execute_result",
          "data": {
            "text/plain": [
              "['Dark', 'Sherlock', 'Dexter']"
            ]
          },
          "metadata": {
            "tags": []
          },
          "execution_count": 11
        }
      ]
    },
    {
      "cell_type": "code",
      "metadata": {
        "colab": {
          "base_uri": "https://localhost:8080/"
        },
        "id": "XMJsAOblwXn5",
        "outputId": "a545756a-c6a9-4f20-ea6c-4ff54eafdb8d"
      },
      "source": [
        "akshansh[3:]"
      ],
      "execution_count": 16,
      "outputs": [
        {
          "output_type": "execute_result",
          "data": {
            "text/plain": [
              "['The Big Bang Theory', 'FRIENDS', 'Mind Hunter']"
            ]
          },
          "metadata": {
            "tags": []
          },
          "execution_count": 16
        }
      ]
    },
    {
      "cell_type": "code",
      "metadata": {
        "colab": {
          "base_uri": "https://localhost:8080/"
        },
        "id": "5Ap5hcFTv0gX",
        "outputId": "cb02209e-e12a-4f02-e75d-e907052dd11f"
      },
      "source": [
        "ak=akshansh[:3]+[\"Code\", \"Drink\", \"Watch\"]+akshansh[5:]\n",
        "print(ak)"
      ],
      "execution_count": 15,
      "outputs": [
        {
          "output_type": "stream",
          "text": [
            "['Dark', 'Sherlock', 'Dexter', 'Code', 'Drink', 'Watch', 'Mind Hunter']\n"
          ],
          "name": "stdout"
        }
      ]
    }
  ]
}